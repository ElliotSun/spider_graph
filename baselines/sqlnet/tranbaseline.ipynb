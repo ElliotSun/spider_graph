{
 "cells": [
  {
   "cell_type": "code",
   "execution_count": 2,
   "metadata": {
    "collapsed": true,
    "pycharm": {
     "name": "#%%\n"
    }
   },
   "outputs": [],
   "source": [
    "import json\n",
    "import torch\n",
    "import datetime\n",
    "import argparse\n",
    "import numpy as np\n",
    "from scripts.utils import *\n",
    "from scripts.model.sqlnet import SQLNet"
   ]
  },
  {
   "cell_type": "code",
   "execution_count": 3,
   "outputs": [
    {
     "data": {
      "text/plain": "[array([0., 0., 0., 0., 0., 0., 0., 0., 0., 0., 0., 0., 0., 0., 0., 0., 0.,\n        0., 0., 0., 0., 0., 0., 0., 0., 0., 0., 0., 0., 0., 0., 0., 0., 0.,\n        0., 0., 0., 0., 0., 0., 0., 0., 0., 0., 0., 0., 0., 0., 0., 0., 0.,\n        0., 0., 0., 0., 0., 0., 0., 0., 0., 0., 0., 0., 0., 0., 0., 0., 0.,\n        0., 0., 0., 0., 0., 0., 0., 0., 0., 0., 0., 0., 0., 0., 0., 0., 0.,\n        0., 0., 0., 0., 0., 0., 0., 0., 0., 0., 0., 0., 0., 0., 0., 0., 0.,\n        0., 0., 0., 0., 0., 0., 0., 0., 0., 0., 0., 0., 0., 0., 0., 0., 0.,\n        0., 0., 0., 0., 0., 0., 0., 0., 0., 0., 0., 0., 0., 0., 0., 0., 0.,\n        0., 0., 0., 0., 0., 0., 0., 0., 0., 0., 0., 0., 0., 0., 0., 0., 0.,\n        0., 0., 0., 0., 0., 0., 0., 0., 0., 0., 0., 0., 0., 0., 0., 0., 0.,\n        0., 0., 0., 0., 0., 0., 0., 0., 0., 0., 0., 0., 0., 0., 0., 0., 0.,\n        0., 0., 0., 0., 0., 0., 0., 0., 0., 0., 0., 0., 0., 0., 0., 0., 0.,\n        0., 0., 0., 0., 0., 0., 0., 0., 0., 0., 0., 0., 0., 0., 0., 0., 0.,\n        0., 0., 0., 0., 0., 0., 0., 0., 0., 0., 0., 0., 0., 0., 0., 0., 0.,\n        0., 0., 0., 0., 0., 0., 0., 0., 0., 0., 0., 0., 0., 0., 0., 0., 0.,\n        0., 0., 0., 0., 0., 0., 0., 0., 0., 0., 0., 0., 0., 0., 0., 0., 0.,\n        0., 0., 0., 0., 0., 0., 0., 0., 0., 0., 0., 0., 0., 0., 0., 0., 0.,\n        0., 0., 0., 0., 0., 0., 0., 0., 0., 0., 0.], dtype=float32)]"
     },
     "execution_count": 3,
     "metadata": {},
     "output_type": "execute_result"
    }
   ],
   "source": [
    "dataset = '/Users/chaosun/Documents/NLIDB/dataset/spider'\n",
    "emb_path = '/Users/chaosun/Documents/NLIDB/dataset/spider_graph/baselines/glove.42B.300d.txt'\n",
    "TOY = False\n",
    "train_emb = False\n",
    "N_word = 300\n",
    "B_word = 42\n",
    "if TOY:\n",
    "    USE_SMALL = True\n",
    "    GPU = False\n",
    "    BATCH_SIZE = 20\n",
    "else:\n",
    "    USE_SMALL = False\n",
    "    GPU = True\n",
    "    BATCH_SIZE = 64\n",
    "TRAIN_ENTRY = (True, True, True)  # (AGG, SEL, COND)\n",
    "TRAIN_AGG, TRAIN_SEL, TRAIN_COND = TRAIN_ENTRY\n",
    "learning_rate = 1e-3"
   ],
   "metadata": {
    "collapsed": false,
    "pycharm": {
     "name": "#%%\n"
    }
   }
  },
  {
   "cell_type": "code",
   "execution_count": null,
   "outputs": [],
   "source": [
    "sql_data, table_data, val_sql_data, val_table_data, test_sql_data, test_table_data, schemas, TRAIN_DB, DEV_DB, TEST_DB = load_dataset(dataset, use_small=USE_SMALL)\n",
    "\n",
    "word_emb = load_word_emb(emb_path, load_used=train_emb, use_small=USE_SMALL)\n",
    "\n",
    "model = SQLNet(word_emb, N_word=N_word, gpu=GPU, trainable_emb=train_emb)\n",
    "optimizer = torch.optim.Adam(model.parameters(), lr=learning_rate, weight_decay=0)\n",
    "init_acc = epoch_acc(model, BATCH_SIZE, val_sql_data, val_table_data, schemas, TRAIN_ENTRY)"
   ],
   "metadata": {
    "collapsed": false,
    "pycharm": {
     "name": "#%%\n"
    }
   }
  },
  {
   "cell_type": "code",
   "execution_count": null,
   "outputs": [],
   "source": [
    "best_sel_acc = init_acc[1][0]\n",
    "best_cond_acc = init_acc[1][1]\n",
    "best_group_acc = init_acc[1][2]\n",
    "best_order_acc = init_acc[1][3]\n",
    "best_tot_acc = 0.0\n",
    "\n",
    "for i in range(300):\n",
    "    print('Epoch %d @ %s' % (i + 1, datetime.datetime.now()))\n",
    "    print(' Loss = %s' % epoch_train(model, optimizer, BATCH_SIZE, sql_data, table_data, schemas, TRAIN_ENTRY))\n",
    "    train_tot_acc, train_bkd_acc = epoch_acc(model, BATCH_SIZE, sql_data, table_data, schemas, TRAIN_ENTRY,\n",
    "                                             train_flag=True)\n",
    "    print(' Train acc_qm: %s' % train_tot_acc)\n",
    "    print(' Breakdown results: sel: %s, cond: %s, group: %s, order: %s' \\\n",
    "          % (train_bkd_acc[0], train_bkd_acc[1], train_bkd_acc[2], train_bkd_acc[3]))\n",
    "\n",
    "    val_tot_acc, val_bkd_acc = epoch_acc(model, BATCH_SIZE, val_sql_data, val_table_data, schemas, TRAIN_ENTRY,\n",
    "                                         error_print=False,\n",
    "                                         train_flag=False)  # for detailed error analysis, pass True to error_print\n",
    "    print(' Dev acc_qm: %s' % val_tot_acc)\n",
    "    print(' Breakdown results: sel: %s, cond: %s, group: %s, order: %s' \\\n",
    "          % (val_bkd_acc[0], val_bkd_acc[1], val_bkd_acc[2], val_bkd_acc[3]))\n",
    "\n",
    "    # save models\n",
    "    if val_bkd_acc[0] > best_sel_acc:\n",
    "        best_sel_acc = val_bkd_acc[0]\n",
    "        print(\"Saving sel model...\")\n",
    "        torch.save(model.sel_pred.state_dict(), \"saved_models/sel_models.dump\")\n",
    "    if val_bkd_acc[1] > best_cond_acc:\n",
    "        best_cond_acc = val_bkd_acc[1]\n",
    "        print(\"Saving cond model...\")\n",
    "        torch.save(model.cond_pred.state_dict(), \"saved_models/cond_models.dump\")\n",
    "    if val_bkd_acc[2] > best_group_acc:\n",
    "        best_group_acc = val_bkd_acc[2]\n",
    "        print(\"Saving group model...\")\n",
    "        torch.save(model.group_pred.state_dict(), \"saved_models/group_models.dump\")\n",
    "    if val_bkd_acc[3] > best_order_acc:\n",
    "        best_order_acc = val_bkd_acc[3]\n",
    "        print(\"Saving order model...\")\n",
    "        torch.save(model.order_pred.state_dict(), \"saved_models/order_models.dump\")\n",
    "    if val_tot_acc > best_tot_acc:\n",
    "        best_tot_acc = val_tot_acc\n",
    "\n",
    "    print(' Best val sel = %s, cond = %s, group = %s, order = %s, tot = %s' % (\n",
    "    best_sel_acc, best_cond_acc, best_group_acc, best_order_acc, best_tot_acc))"
   ],
   "metadata": {
    "collapsed": false,
    "pycharm": {
     "name": "#%%\n"
    }
   }
  }
 ],
 "metadata": {
  "kernelspec": {
   "display_name": "Python 3",
   "language": "python",
   "name": "python3"
  },
  "language_info": {
   "codemirror_mode": {
    "name": "ipython",
    "version": 2
   },
   "file_extension": ".py",
   "mimetype": "text/x-python",
   "name": "python",
   "nbconvert_exporter": "python",
   "pygments_lexer": "ipython2",
   "version": "2.7.6"
  }
 },
 "nbformat": 4,
 "nbformat_minor": 0
}