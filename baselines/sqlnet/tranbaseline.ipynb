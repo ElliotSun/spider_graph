{
 "cells": [
  {
   "cell_type": "code",
   "execution_count": null,
   "outputs": [],
   "source": [
    "from google.colab import drive\n",
    "drive.mount('/content/drive')"
   ],
   "metadata": {
    "collapsed": false,
    "pycharm": {
     "name": "#%%\n"
    }
   }
  },
  {
   "cell_type": "code",
   "execution_count": null,
   "outputs": [],
   "source": [
    "import sys\n",
    "sys.path.append('/content/drive/Othercomputers/My MacBook Pro/NLIDB/dataset/spider_graph/baselines/sqlnet')"
   ],
   "metadata": {
    "collapsed": false,
    "pycharm": {
     "name": "#%%\n"
    }
   }
  },
  {
   "cell_type": "code",
   "execution_count": null,
   "outputs": [],
   "source": [
    "import json\n",
    "import torch\n",
    "import datetime\n",
    "import argparse\n",
    "import numpy as np\n",
    "from scripts.utils import *\n",
    "from scripts.model.sqlnet import SQLNet"
   ],
   "metadata": {
    "collapsed": false,
    "pycharm": {
     "name": "#%%\n"
    }
   }
  },
  {
   "cell_type": "code",
   "execution_count": null,
   "outputs": [],
   "source": [
    "dataset = '/content/drive/Othercomputers/My MacBook Pro/NLIDB/dataset/spider'\n",
    "emb_path = '/content/drive/Othercomputers/My MacBook Pro/NLIDB/dataset/spider_graph/baselines/glove.42B.300d.txt'\n",
    "TOY = False\n",
    "train_emb = False\n",
    "N_word = 300\n",
    "B_word = 42\n",
    "if TOY:\n",
    "    USE_SMALL = True\n",
    "    GPU = False\n",
    "    BATCH_SIZE = 20\n",
    "else:\n",
    "    USE_SMALL = False\n",
    "    GPU = True\n",
    "    BATCH_SIZE = 64\n",
    "TRAIN_ENTRY = (True, True, True)  # (AGG, SEL, COND)\n",
    "TRAIN_AGG, TRAIN_SEL, TRAIN_COND = TRAIN_ENTRY\n",
    "learning_rate = 1e-3"
   ],
   "metadata": {
    "collapsed": false,
    "pycharm": {
     "name": "#%%\n"
    }
   }
  },
  {
   "cell_type": "code",
   "execution_count": null,
   "metadata": {
    "collapsed": true,
    "pycharm": {
     "name": "#%%\n"
    },
    "id": "MlriG_RxIQ1H"
   },
   "outputs": [],
   "source": [
    "import json\n",
    "import torch\n",
    "import datetime\n",
    "import argparse\n",
    "import numpy as np\n",
    "from scripts.utils import *\n",
    "from scripts.model.sqlnet import SQLNet"
   ]
  },
  {
   "cell_type": "code",
   "execution_count": null,
   "outputs": [],
   "source": [
    "dataset = '/content/drive/Othercomputers/My MacBook Pro/NLIDB/dataset/spider'\n",
    "emb_path = '/content/drive/Othercomputers/My MacBook Pro/NLIDB/dataset/spider_graph/baselines/glove.42B.300d.txt'\n",
    "TOY = False\n",
    "train_emb = False\n",
    "N_word = 300\n",
    "B_word = 42\n",
    "if TOY:\n",
    "    USE_SMALL = True\n",
    "    GPU = False\n",
    "    BATCH_SIZE = 20\n",
    "else:\n",
    "    USE_SMALL = False\n",
    "    GPU = True\n",
    "    BATCH_SIZE = 64\n",
    "TRAIN_ENTRY = (True, True, True)  # (AGG, SEL, COND)\n",
    "TRAIN_AGG, TRAIN_SEL, TRAIN_COND = TRAIN_ENTRY\n",
    "learning_rate = 1e-3"
   ],
   "metadata": {
    "pycharm": {
     "name": "#%%\n"
    },
    "id": "Yn02NqNDIQ1L"
   }
  },
  {
   "cell_type": "code",
   "execution_count": null,
   "outputs": [
    {
     "output_type": "stream",
     "name": "stdout",
     "text": [
      "Loading from datasets...\n",
      "Loading data from /content/drive/Othercomputers/My MacBook Pro/NLIDB/dataset/spider/tables.json\n",
      "Loading data from /content/drive/Othercomputers/My MacBook Pro/NLIDB/dataset/spider/train_spider.json\n",
      "Loading data from /content/drive/Othercomputers/My MacBook Pro/NLIDB/dataset/spider/dev.json\n",
      "Loading data from /content/drive/Othercomputers/My MacBook Pro/NLIDB/dataset/spider/dev.json\n",
      "Loading word embedding from /content/drive/Othercomputers/My MacBook Pro/NLIDB/dataset/spider_graph/baselines/glove.42B.300d.txt\n",
      "Using fixed embedding for words but trainable embedding for types\n"
     ]
    },
    {
     "output_type": "stream",
     "name": "stderr",
     "text": [
      "/content/drive/Othercomputers/My MacBook Pro/NLIDB/dataset/spider_graph/baselines/sqlnet/scripts/model/modules/sel_predict.py:66: UserWarning: Implicit dimension choice for softmax has been deprecated. Change the call to include dim=X as an argument.\n",
      "  att_prob_qc_num = self.softmax(att_val_qc_num.view((-1, max_q_len))).view(B, -1, max_q_len)\n",
      "/content/drive/Othercomputers/My MacBook Pro/NLIDB/dataset/spider_graph/baselines/sqlnet/scripts/model/modules/sel_predict.py:77: UserWarning: Implicit dimension choice for softmax has been deprecated. Change the call to include dim=X as an argument.\n",
      "  att_prob_qc = self.softmax(att_val_qc.view((-1, max_q_len))).view(B, -1, max_q_len)\n",
      "/content/drive/Othercomputers/My MacBook Pro/NLIDB/dataset/spider_graph/baselines/sqlnet/scripts/model/modules/sel_predict.py:119: UserWarning: Implicit dimension choice for softmax has been deprecated. Change the call to include dim=X as an argument.\n",
      "  agg_num_att = self.softmax(agg_num_att_val.view(-1, max_q_len)).view(B, -1, max_q_len)\n",
      "/content/drive/Othercomputers/My MacBook Pro/NLIDB/dataset/spider_graph/baselines/sqlnet/scripts/model/modules/sel_predict.py:130: UserWarning: Implicit dimension choice for softmax has been deprecated. Change the call to include dim=X as an argument.\n",
      "  agg_att = self.softmax(agg_att_val.view(-1, max_q_len)).view(B, -1, max_q_len)\n",
      "/content/drive/Othercomputers/My MacBook Pro/NLIDB/dataset/spider_graph/baselines/sqlnet/scripts/model/modules/cond_predict.py:60: UserWarning: Implicit dimension choice for softmax has been deprecated. Change the call to include dim=X as an argument.\n",
      "  att_prob_qc_num = self.softmax(att_val_qc_num.view((-1, max_q_len))).view(B, -1, max_q_len)\n",
      "/content/drive/Othercomputers/My MacBook Pro/NLIDB/dataset/spider_graph/baselines/sqlnet/scripts/model/modules/cond_predict.py:71: UserWarning: Implicit dimension choice for softmax has been deprecated. Change the call to include dim=X as an argument.\n",
      "  att_prob_qc = self.softmax(att_val_qc.view((-1, max_q_len))).view(B, -1, max_q_len)\n",
      "/content/drive/Othercomputers/My MacBook Pro/NLIDB/dataset/spider_graph/baselines/sqlnet/scripts/model/modules/cond_predict.py:102: UserWarning: Implicit dimension choice for softmax has been deprecated. Change the call to include dim=X as an argument.\n",
      "  op_att = self.softmax(op_att_val.view(-1, max_q_len)).view(B, -1, max_q_len)\n",
      "/content/drive/Othercomputers/My MacBook Pro/NLIDB/dataset/spider_graph/baselines/sqlnet/scripts/model/modules/group_predict.py:75: UserWarning: Implicit dimension choice for softmax has been deprecated. Change the call to include dim=X as an argument.\n",
      "  gby_num_att_val = self.softmax(gby_num_att.view((-1, max_q_len))).view(B, -1, max_q_len)\n",
      "/content/drive/Othercomputers/My MacBook Pro/NLIDB/dataset/spider_graph/baselines/sqlnet/scripts/model/modules/group_predict.py:84: UserWarning: Implicit dimension choice for softmax has been deprecated. Change the call to include dim=X as an argument.\n",
      "  gby_att = self.softmax(gby_att_val.view((-1, max_q_len))).view(B, -1, max_q_len)\n",
      "/content/drive/Othercomputers/My MacBook Pro/NLIDB/dataset/spider_graph/baselines/sqlnet/scripts/model/modules/group_predict.py:101: UserWarning: Implicit dimension choice for softmax has been deprecated. Change the call to include dim=X as an argument.\n",
      "  hv_att_prob = self.softmax(hv_att_val.view((-1, max_q_len))).view(B, -1, max_q_len)\n",
      "/content/drive/Othercomputers/My MacBook Pro/NLIDB/dataset/spider_graph/baselines/sqlnet/scripts/model/modules/group_predict.py:110: UserWarning: Implicit dimension choice for softmax has been deprecated. Change the call to include dim=X as an argument.\n",
      "  att_prob_qc = self.softmax(att_val_qc.view((-1, max_q_len))).view(B, -1, max_q_len)\n",
      "/content/drive/Othercomputers/My MacBook Pro/NLIDB/dataset/spider_graph/baselines/sqlnet/scripts/model/modules/group_predict.py:127: UserWarning: Implicit dimension choice for softmax has been deprecated. Change the call to include dim=X as an argument.\n",
      "  agg_att = self.softmax(agg_att_val.view((-1, max_q_len))).view(B, -1, max_q_len)\n",
      "/content/drive/Othercomputers/My MacBook Pro/NLIDB/dataset/spider_graph/baselines/sqlnet/scripts/model/modules/group_predict.py:139: UserWarning: Implicit dimension choice for softmax has been deprecated. Change the call to include dim=X as an argument.\n",
      "  op_att = self.softmax(op_att_val.view(-1, max_q_len)).view(B, -1, max_q_len)\n",
      "/content/drive/Othercomputers/My MacBook Pro/NLIDB/dataset/spider_graph/baselines/sqlnet/scripts/model/modules/order_predict.py:66: UserWarning: Implicit dimension choice for softmax has been deprecated. Change the call to include dim=X as an argument.\n",
      "  gby_num_att_val = self.softmax(gby_num_att.view((-1, max_q_len))).view(B, -1, max_q_len)\n",
      "/content/drive/Othercomputers/My MacBook Pro/NLIDB/dataset/spider_graph/baselines/sqlnet/scripts/model/modules/order_predict.py:75: UserWarning: Implicit dimension choice for softmax has been deprecated. Change the call to include dim=X as an argument.\n",
      "  att_prob_qc = self.softmax(att_val_qc.view((-1, max_q_len))).view(B, -1, max_q_len)\n",
      "/content/drive/Othercomputers/My MacBook Pro/NLIDB/dataset/spider_graph/baselines/sqlnet/scripts/model/modules/order_predict.py:93: UserWarning: Implicit dimension choice for softmax has been deprecated. Change the call to include dim=X as an argument.\n",
      "  agg_att = self.softmax(agg_att_val.view((-1, max_q_len))).view(B, -1, max_q_len)\n",
      "/content/drive/Othercomputers/My MacBook Pro/NLIDB/dataset/spider_graph/baselines/sqlnet/scripts/model/modules/order_predict.py:107: UserWarning: Implicit dimension choice for softmax has been deprecated. Change the call to include dim=X as an argument.\n",
      "  dat_att = self.softmax(dat_att_val.view((-1, max_q_len))).view(B, -1, max_q_len)\n"
     ]
    }
   ],
   "source": [
    "sql_data, table_data, val_sql_data, val_table_data, test_sql_data, test_table_data, schemas, TRAIN_DB, DEV_DB, TEST_DB = load_dataset(dataset, use_small=USE_SMALL)\n",
    "\n",
    "word_emb = load_word_emb(emb_path, load_used=train_emb, use_small=USE_SMALL)\n",
    "\n",
    "model = SQLNet(word_emb, N_word=N_word, gpu=GPU, trainable_emb=train_emb)\n",
    "optimizer = torch.optim.Adam(model.parameters(), lr=learning_rate, weight_decay=0)\n",
    "init_acc = epoch_acc(model, BATCH_SIZE, val_sql_data, val_table_data, schemas, TRAIN_ENTRY)"
   ],
   "metadata": {
    "pycharm": {
     "name": "#%%\n"
    },
    "colab": {
     "base_uri": "https://localhost:8080/"
    },
    "id": "W2-wz2cUIQ1M",
    "executionInfo": {
     "status": "ok",
     "timestamp": 1656736226844,
     "user_tz": -600,
     "elapsed": 214543,
     "user": {
      "displayName": "Elliot Sun",
      "userId": "07433535795616334512"
     }
    },
    "outputId": "bda1949e-2858-4d74-cd87-738930a1d715"
   }
  },
  {
   "cell_type": "code",
   "execution_count": null,
   "outputs": [
    {
     "output_type": "stream",
     "name": "stdout",
     "text": [
      "Epoch 1 @ 2022-07-02 04:30:45.529831\n"
     ]
    },
    {
     "output_type": "stream",
     "name": "stderr",
     "text": [
      "/content/drive/Othercomputers/My MacBook Pro/NLIDB/dataset/spider_graph/baselines/sqlnet/scripts/model/modules/sel_predict.py:66: UserWarning: Implicit dimension choice for softmax has been deprecated. Change the call to include dim=X as an argument.\n",
      "  att_prob_qc_num = self.softmax(att_val_qc_num.view((-1, max_q_len))).view(B, -1, max_q_len)\n",
      "/content/drive/Othercomputers/My MacBook Pro/NLIDB/dataset/spider_graph/baselines/sqlnet/scripts/model/modules/sel_predict.py:77: UserWarning: Implicit dimension choice for softmax has been deprecated. Change the call to include dim=X as an argument.\n",
      "  att_prob_qc = self.softmax(att_val_qc.view((-1, max_q_len))).view(B, -1, max_q_len)\n",
      "/content/drive/Othercomputers/My MacBook Pro/NLIDB/dataset/spider_graph/baselines/sqlnet/scripts/model/modules/sel_predict.py:119: UserWarning: Implicit dimension choice for softmax has been deprecated. Change the call to include dim=X as an argument.\n",
      "  agg_num_att = self.softmax(agg_num_att_val.view(-1, max_q_len)).view(B, -1, max_q_len)\n",
      "/content/drive/Othercomputers/My MacBook Pro/NLIDB/dataset/spider_graph/baselines/sqlnet/scripts/model/modules/sel_predict.py:130: UserWarning: Implicit dimension choice for softmax has been deprecated. Change the call to include dim=X as an argument.\n",
      "  agg_att = self.softmax(agg_att_val.view(-1, max_q_len)).view(B, -1, max_q_len)\n",
      "/content/drive/Othercomputers/My MacBook Pro/NLIDB/dataset/spider_graph/baselines/sqlnet/scripts/model/modules/cond_predict.py:60: UserWarning: Implicit dimension choice for softmax has been deprecated. Change the call to include dim=X as an argument.\n",
      "  att_prob_qc_num = self.softmax(att_val_qc_num.view((-1, max_q_len))).view(B, -1, max_q_len)\n",
      "/content/drive/Othercomputers/My MacBook Pro/NLIDB/dataset/spider_graph/baselines/sqlnet/scripts/model/modules/cond_predict.py:71: UserWarning: Implicit dimension choice for softmax has been deprecated. Change the call to include dim=X as an argument.\n",
      "  att_prob_qc = self.softmax(att_val_qc.view((-1, max_q_len))).view(B, -1, max_q_len)\n",
      "/content/drive/Othercomputers/My MacBook Pro/NLIDB/dataset/spider_graph/baselines/sqlnet/scripts/model/modules/cond_predict.py:102: UserWarning: Implicit dimension choice for softmax has been deprecated. Change the call to include dim=X as an argument.\n",
      "  op_att = self.softmax(op_att_val.view(-1, max_q_len)).view(B, -1, max_q_len)\n",
      "/content/drive/Othercomputers/My MacBook Pro/NLIDB/dataset/spider_graph/baselines/sqlnet/scripts/model/modules/group_predict.py:75: UserWarning: Implicit dimension choice for softmax has been deprecated. Change the call to include dim=X as an argument.\n",
      "  gby_num_att_val = self.softmax(gby_num_att.view((-1, max_q_len))).view(B, -1, max_q_len)\n",
      "/content/drive/Othercomputers/My MacBook Pro/NLIDB/dataset/spider_graph/baselines/sqlnet/scripts/model/modules/group_predict.py:84: UserWarning: Implicit dimension choice for softmax has been deprecated. Change the call to include dim=X as an argument.\n",
      "  gby_att = self.softmax(gby_att_val.view((-1, max_q_len))).view(B, -1, max_q_len)\n",
      "/content/drive/Othercomputers/My MacBook Pro/NLIDB/dataset/spider_graph/baselines/sqlnet/scripts/model/modules/group_predict.py:101: UserWarning: Implicit dimension choice for softmax has been deprecated. Change the call to include dim=X as an argument.\n",
      "  hv_att_prob = self.softmax(hv_att_val.view((-1, max_q_len))).view(B, -1, max_q_len)\n",
      "/content/drive/Othercomputers/My MacBook Pro/NLIDB/dataset/spider_graph/baselines/sqlnet/scripts/model/modules/group_predict.py:110: UserWarning: Implicit dimension choice for softmax has been deprecated. Change the call to include dim=X as an argument.\n",
      "  att_prob_qc = self.softmax(att_val_qc.view((-1, max_q_len))).view(B, -1, max_q_len)\n",
      "/content/drive/Othercomputers/My MacBook Pro/NLIDB/dataset/spider_graph/baselines/sqlnet/scripts/model/modules/group_predict.py:127: UserWarning: Implicit dimension choice for softmax has been deprecated. Change the call to include dim=X as an argument.\n",
      "  agg_att = self.softmax(agg_att_val.view((-1, max_q_len))).view(B, -1, max_q_len)\n",
      "/content/drive/Othercomputers/My MacBook Pro/NLIDB/dataset/spider_graph/baselines/sqlnet/scripts/model/modules/group_predict.py:139: UserWarning: Implicit dimension choice for softmax has been deprecated. Change the call to include dim=X as an argument.\n",
      "  op_att = self.softmax(op_att_val.view(-1, max_q_len)).view(B, -1, max_q_len)\n",
      "/content/drive/Othercomputers/My MacBook Pro/NLIDB/dataset/spider_graph/baselines/sqlnet/scripts/model/modules/order_predict.py:66: UserWarning: Implicit dimension choice for softmax has been deprecated. Change the call to include dim=X as an argument.\n",
      "  gby_num_att_val = self.softmax(gby_num_att.view((-1, max_q_len))).view(B, -1, max_q_len)\n",
      "/content/drive/Othercomputers/My MacBook Pro/NLIDB/dataset/spider_graph/baselines/sqlnet/scripts/model/modules/order_predict.py:75: UserWarning: Implicit dimension choice for softmax has been deprecated. Change the call to include dim=X as an argument.\n",
      "  att_prob_qc = self.softmax(att_val_qc.view((-1, max_q_len))).view(B, -1, max_q_len)\n",
      "/content/drive/Othercomputers/My MacBook Pro/NLIDB/dataset/spider_graph/baselines/sqlnet/scripts/model/modules/order_predict.py:93: UserWarning: Implicit dimension choice for softmax has been deprecated. Change the call to include dim=X as an argument.\n",
      "  agg_att = self.softmax(agg_att_val.view((-1, max_q_len))).view(B, -1, max_q_len)\n",
      "/content/drive/Othercomputers/My MacBook Pro/NLIDB/dataset/spider_graph/baselines/sqlnet/scripts/model/modules/order_predict.py:107: UserWarning: Implicit dimension choice for softmax has been deprecated. Change the call to include dim=X as an argument.\n",
      "  dat_att = self.softmax(dat_att_val.view((-1, max_q_len))).view(B, -1, max_q_len)\n"
     ]
    },
    {
     "output_type": "stream",
     "name": "stdout",
     "text": [
      " Loss = 6.481789159502302\n",
      " Train acc_qm: 0.018571428571428572\n",
      " Breakdown results: sel: 0.11242857142857143, cond: 0.4972857142857143, group: 0.6588571428571428, order: 0.7934285714285715\n",
      " Dev acc_qm: 0.013539651837524178\n",
      " Breakdown results: sel: 0.13056092843326886, cond: 0.5193423597678917, group: 0.6508704061895552, order: 0.793036750483559\n",
      "Saving sel model...\n"
     ]
    },
    {
     "output_type": "error",
     "ename": "FileNotFoundError",
     "evalue": "ignored",
     "traceback": [
      "\u001B[0;31m---------------------------------------------------------------------------\u001B[0m",
      "\u001B[0;31mFileNotFoundError\u001B[0m                         Traceback (most recent call last)",
      "\u001B[0;32m<ipython-input-6-a0c59d9db109>\u001B[0m in \u001B[0;36m<module>\u001B[0;34m()\u001B[0m\n\u001B[1;32m     23\u001B[0m         \u001B[0mbest_sel_acc\u001B[0m \u001B[0;34m=\u001B[0m \u001B[0mval_bkd_acc\u001B[0m\u001B[0;34m[\u001B[0m\u001B[0;36m0\u001B[0m\u001B[0;34m]\u001B[0m\u001B[0;34m\u001B[0m\u001B[0;34m\u001B[0m\u001B[0m\n\u001B[1;32m     24\u001B[0m         \u001B[0mprint\u001B[0m\u001B[0;34m(\u001B[0m\u001B[0;34m\"Saving sel model...\"\u001B[0m\u001B[0;34m)\u001B[0m\u001B[0;34m\u001B[0m\u001B[0;34m\u001B[0m\u001B[0m\n\u001B[0;32m---> 25\u001B[0;31m         \u001B[0mtorch\u001B[0m\u001B[0;34m.\u001B[0m\u001B[0msave\u001B[0m\u001B[0;34m(\u001B[0m\u001B[0mmodel\u001B[0m\u001B[0;34m.\u001B[0m\u001B[0msel_pred\u001B[0m\u001B[0;34m.\u001B[0m\u001B[0mstate_dict\u001B[0m\u001B[0;34m(\u001B[0m\u001B[0;34m)\u001B[0m\u001B[0;34m,\u001B[0m \u001B[0;34m\"saved_models/sel_models.dump\"\u001B[0m\u001B[0;34m)\u001B[0m\u001B[0;34m\u001B[0m\u001B[0;34m\u001B[0m\u001B[0m\n\u001B[0m\u001B[1;32m     26\u001B[0m     \u001B[0;32mif\u001B[0m \u001B[0mval_bkd_acc\u001B[0m\u001B[0;34m[\u001B[0m\u001B[0;36m1\u001B[0m\u001B[0;34m]\u001B[0m \u001B[0;34m>\u001B[0m \u001B[0mbest_cond_acc\u001B[0m\u001B[0;34m:\u001B[0m\u001B[0;34m\u001B[0m\u001B[0;34m\u001B[0m\u001B[0m\n\u001B[1;32m     27\u001B[0m         \u001B[0mbest_cond_acc\u001B[0m \u001B[0;34m=\u001B[0m \u001B[0mval_bkd_acc\u001B[0m\u001B[0;34m[\u001B[0m\u001B[0;36m1\u001B[0m\u001B[0;34m]\u001B[0m\u001B[0;34m\u001B[0m\u001B[0;34m\u001B[0m\u001B[0m\n",
      "\u001B[0;32m/usr/local/lib/python3.7/dist-packages/torch/serialization.py\u001B[0m in \u001B[0;36msave\u001B[0;34m(obj, f, pickle_module, pickle_protocol, _use_new_zipfile_serialization)\u001B[0m\n\u001B[1;32m    375\u001B[0m     \u001B[0m_check_dill_version\u001B[0m\u001B[0;34m(\u001B[0m\u001B[0mpickle_module\u001B[0m\u001B[0;34m)\u001B[0m\u001B[0;34m\u001B[0m\u001B[0;34m\u001B[0m\u001B[0m\n\u001B[1;32m    376\u001B[0m \u001B[0;34m\u001B[0m\u001B[0m\n\u001B[0;32m--> 377\u001B[0;31m     \u001B[0;32mwith\u001B[0m \u001B[0m_open_file_like\u001B[0m\u001B[0;34m(\u001B[0m\u001B[0mf\u001B[0m\u001B[0;34m,\u001B[0m \u001B[0;34m'wb'\u001B[0m\u001B[0;34m)\u001B[0m \u001B[0;32mas\u001B[0m \u001B[0mopened_file\u001B[0m\u001B[0;34m:\u001B[0m\u001B[0;34m\u001B[0m\u001B[0;34m\u001B[0m\u001B[0m\n\u001B[0m\u001B[1;32m    378\u001B[0m         \u001B[0;32mif\u001B[0m \u001B[0m_use_new_zipfile_serialization\u001B[0m\u001B[0;34m:\u001B[0m\u001B[0;34m\u001B[0m\u001B[0;34m\u001B[0m\u001B[0m\n\u001B[1;32m    379\u001B[0m             \u001B[0;32mwith\u001B[0m \u001B[0m_open_zipfile_writer\u001B[0m\u001B[0;34m(\u001B[0m\u001B[0mopened_file\u001B[0m\u001B[0;34m)\u001B[0m \u001B[0;32mas\u001B[0m \u001B[0mopened_zipfile\u001B[0m\u001B[0;34m:\u001B[0m\u001B[0;34m\u001B[0m\u001B[0;34m\u001B[0m\u001B[0m\n",
      "\u001B[0;32m/usr/local/lib/python3.7/dist-packages/torch/serialization.py\u001B[0m in \u001B[0;36m_open_file_like\u001B[0;34m(name_or_buffer, mode)\u001B[0m\n\u001B[1;32m    229\u001B[0m \u001B[0;32mdef\u001B[0m \u001B[0m_open_file_like\u001B[0m\u001B[0;34m(\u001B[0m\u001B[0mname_or_buffer\u001B[0m\u001B[0;34m,\u001B[0m \u001B[0mmode\u001B[0m\u001B[0;34m)\u001B[0m\u001B[0;34m:\u001B[0m\u001B[0;34m\u001B[0m\u001B[0;34m\u001B[0m\u001B[0m\n\u001B[1;32m    230\u001B[0m     \u001B[0;32mif\u001B[0m \u001B[0m_is_path\u001B[0m\u001B[0;34m(\u001B[0m\u001B[0mname_or_buffer\u001B[0m\u001B[0;34m)\u001B[0m\u001B[0;34m:\u001B[0m\u001B[0;34m\u001B[0m\u001B[0;34m\u001B[0m\u001B[0m\n\u001B[0;32m--> 231\u001B[0;31m         \u001B[0;32mreturn\u001B[0m \u001B[0m_open_file\u001B[0m\u001B[0;34m(\u001B[0m\u001B[0mname_or_buffer\u001B[0m\u001B[0;34m,\u001B[0m \u001B[0mmode\u001B[0m\u001B[0;34m)\u001B[0m\u001B[0;34m\u001B[0m\u001B[0;34m\u001B[0m\u001B[0m\n\u001B[0m\u001B[1;32m    232\u001B[0m     \u001B[0;32melse\u001B[0m\u001B[0;34m:\u001B[0m\u001B[0;34m\u001B[0m\u001B[0;34m\u001B[0m\u001B[0m\n\u001B[1;32m    233\u001B[0m         \u001B[0;32mif\u001B[0m \u001B[0;34m'w'\u001B[0m \u001B[0;32min\u001B[0m \u001B[0mmode\u001B[0m\u001B[0;34m:\u001B[0m\u001B[0;34m\u001B[0m\u001B[0;34m\u001B[0m\u001B[0m\n",
      "\u001B[0;32m/usr/local/lib/python3.7/dist-packages/torch/serialization.py\u001B[0m in \u001B[0;36m__init__\u001B[0;34m(self, name, mode)\u001B[0m\n\u001B[1;32m    210\u001B[0m \u001B[0;32mclass\u001B[0m \u001B[0m_open_file\u001B[0m\u001B[0;34m(\u001B[0m\u001B[0m_opener\u001B[0m\u001B[0;34m)\u001B[0m\u001B[0;34m:\u001B[0m\u001B[0;34m\u001B[0m\u001B[0;34m\u001B[0m\u001B[0m\n\u001B[1;32m    211\u001B[0m     \u001B[0;32mdef\u001B[0m \u001B[0m__init__\u001B[0m\u001B[0;34m(\u001B[0m\u001B[0mself\u001B[0m\u001B[0;34m,\u001B[0m \u001B[0mname\u001B[0m\u001B[0;34m,\u001B[0m \u001B[0mmode\u001B[0m\u001B[0;34m)\u001B[0m\u001B[0;34m:\u001B[0m\u001B[0;34m\u001B[0m\u001B[0;34m\u001B[0m\u001B[0m\n\u001B[0;32m--> 212\u001B[0;31m         \u001B[0msuper\u001B[0m\u001B[0;34m(\u001B[0m\u001B[0m_open_file\u001B[0m\u001B[0;34m,\u001B[0m \u001B[0mself\u001B[0m\u001B[0;34m)\u001B[0m\u001B[0;34m.\u001B[0m\u001B[0m__init__\u001B[0m\u001B[0;34m(\u001B[0m\u001B[0mopen\u001B[0m\u001B[0;34m(\u001B[0m\u001B[0mname\u001B[0m\u001B[0;34m,\u001B[0m \u001B[0mmode\u001B[0m\u001B[0;34m)\u001B[0m\u001B[0;34m)\u001B[0m\u001B[0;34m\u001B[0m\u001B[0;34m\u001B[0m\u001B[0m\n\u001B[0m\u001B[1;32m    213\u001B[0m \u001B[0;34m\u001B[0m\u001B[0m\n\u001B[1;32m    214\u001B[0m     \u001B[0;32mdef\u001B[0m \u001B[0m__exit__\u001B[0m\u001B[0;34m(\u001B[0m\u001B[0mself\u001B[0m\u001B[0;34m,\u001B[0m \u001B[0;34m*\u001B[0m\u001B[0margs\u001B[0m\u001B[0;34m)\u001B[0m\u001B[0;34m:\u001B[0m\u001B[0;34m\u001B[0m\u001B[0;34m\u001B[0m\u001B[0m\n",
      "\u001B[0;31mFileNotFoundError\u001B[0m: [Errno 2] No such file or directory: 'saved_models/sel_models.dump'"
     ]
    }
   ],
   "source": [
    "best_sel_acc = init_acc[1][0]\n",
    "best_cond_acc = init_acc[1][1]\n",
    "best_group_acc = init_acc[1][2]\n",
    "best_order_acc = init_acc[1][3]\n",
    "best_tot_acc = 0.0\n",
    "\n",
    "for i in range(300):\n",
    "    print('Epoch %d @ %s' % (i + 1, datetime.datetime.now()))\n",
    "    print(' Loss = %s' % epoch_train(model, optimizer, BATCH_SIZE, sql_data, table_data, schemas, TRAIN_ENTRY))\n",
    "    train_tot_acc, train_bkd_acc = epoch_acc(model, BATCH_SIZE, sql_data, table_data, schemas, TRAIN_ENTRY,\n",
    "                                             train_flag=True)\n",
    "    print(' Train acc_qm: %s' % train_tot_acc)\n",
    "    print(' Breakdown results: sel: %s, cond: %s, group: %s, order: %s' \\\n",
    "          % (train_bkd_acc[0], train_bkd_acc[1], train_bkd_acc[2], train_bkd_acc[3]))\n",
    "\n",
    "    val_tot_acc, val_bkd_acc = epoch_acc(model, BATCH_SIZE, val_sql_data, val_table_data, schemas, TRAIN_ENTRY,\n",
    "                                         error_print=False,\n",
    "                                         train_flag=False)  # for detailed error analysis, pass True to error_print\n",
    "    print(' Dev acc_qm: %s' % val_tot_acc)\n",
    "    print(' Breakdown results: sel: %s, cond: %s, group: %s, order: %s' \\\n",
    "          % (val_bkd_acc[0], val_bkd_acc[1], val_bkd_acc[2], val_bkd_acc[3]))\n",
    "\n",
    "    # save models\n",
    "    if val_bkd_acc[0] > best_sel_acc:\n",
    "        best_sel_acc = val_bkd_acc[0]\n",
    "        print(\"Saving sel model...\")\n",
    "        torch.save(model.sel_pred.state_dict(), \"saved_models/sel_models.dump\")\n",
    "    if val_bkd_acc[1] > best_cond_acc:\n",
    "        best_cond_acc = val_bkd_acc[1]\n",
    "        print(\"Saving cond model...\")\n",
    "        torch.save(model.cond_pred.state_dict(), \"saved_models/cond_models.dump\")\n",
    "    if val_bkd_acc[2] > best_group_acc:\n",
    "        best_group_acc = val_bkd_acc[2]\n",
    "        print(\"Saving group model...\")\n",
    "        torch.save(model.group_pred.state_dict(), \"saved_models/group_models.dump\")\n",
    "    if val_bkd_acc[3] > best_order_acc:\n",
    "        best_order_acc = val_bkd_acc[3]\n",
    "        print(\"Saving order model...\")\n",
    "        torch.save(model.order_pred.state_dict(), \"saved_models/order_models.dump\")\n",
    "    if val_tot_acc > best_tot_acc:\n",
    "        best_tot_acc = val_tot_acc\n",
    "\n",
    "    print(' Best val sel = %s, cond = %s, group = %s, order = %s, tot = %s' % (\n",
    "    best_sel_acc, best_cond_acc, best_group_acc, best_order_acc, best_tot_acc))"
   ],
   "metadata": {
    "pycharm": {
     "name": "#%%\n"
    },
    "colab": {
     "base_uri": "https://localhost:8080/",
     "height": 1000
    },
    "id": "4HTxD2aLIQ1M",
    "executionInfo": {
     "status": "error",
     "timestamp": 1656736291669,
     "user_tz": -600,
     "elapsed": 46294,
     "user": {
      "displayName": "Elliot Sun",
      "userId": "07433535795616334512"
     }
    },
    "outputId": "df8c49bb-f779-478f-e80d-91cf9c5f41ea"
   }
  }
 ],
 "metadata": {
  "kernelspec": {
   "display_name": "Python 3",
   "language": "python",
   "name": "python3"
  },
  "language_info": {
   "codemirror_mode": {
    "name": "ipython",
    "version": 2
   },
   "file_extension": ".py",
   "mimetype": "text/x-python",
   "name": "python",
   "nbconvert_exporter": "python",
   "pygments_lexer": "ipython2",
   "version": "2.7.6"
  },
  "colab": {
   "name": "tranbaseline.ipynb",
   "provenance": [],
   "collapsed_sections": []
  },
  "accelerator": "GPU",
  "gpuClass": "standard"
 },
 "nbformat": 4,
 "nbformat_minor": 0
}